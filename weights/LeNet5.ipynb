{
  "cells": [
    {
      "cell_type": "code",
      "execution_count": 1,
      "id": "a490f7a0-cb6d-4048-87e6-3fa66ee45232",
      "metadata": {
        "id": "a490f7a0-cb6d-4048-87e6-3fa66ee45232"
      },
      "outputs": [],
      "source": [
        "import tensorflow as tf\n",
        "from tensorflow import keras\n",
        "import numpy as np\n",
        "from matplotlib import pyplot\n",
        "from keras.models import model_from_json"
      ]
    },
    {
      "cell_type": "code",
      "execution_count": 2,
      "id": "93d3031b-4533-4aec-a39f-02e28c2e70a7",
      "metadata": {
        "colab": {
          "base_uri": "https://localhost:8080/"
        },
        "id": "93d3031b-4533-4aec-a39f-02e28c2e70a7",
        "outputId": "3a82a251-8be1-4427-a615-6b8e10e87ff0"
      },
      "outputs": [
        {
          "output_type": "stream",
          "name": "stdout",
          "text": [
            "Downloading data from https://storage.googleapis.com/tensorflow/tf-keras-datasets/mnist.npz\n",
            "11490434/11490434 [==============================] - 0s 0us/step\n"
          ]
        },
        {
          "output_type": "execute_result",
          "data": {
            "text/plain": [
              "(60000, 28, 28)"
            ]
          },
          "metadata": {},
          "execution_count": 2
        }
      ],
      "source": [
        "(train_x, train_y), (test_x, test_y) = keras.datasets.mnist.load_data()\n",
        "train_x = train_x / 255.0\n",
        "test_x = test_x / 255.0\n",
        "train_x.shape"
      ]
    },
    {
      "cell_type": "code",
      "execution_count": 3,
      "id": "f25fabb6-19d5-49a4-9598-085544a8aab2",
      "metadata": {
        "colab": {
          "base_uri": "https://localhost:8080/"
        },
        "id": "f25fabb6-19d5-49a4-9598-085544a8aab2",
        "outputId": "ab4a33bd-85d6-4c21-91cb-d70c68d8da75"
      },
      "outputs": [
        {
          "output_type": "execute_result",
          "data": {
            "text/plain": [
              "TensorShape([60000, 28, 28, 1])"
            ]
          },
          "metadata": {},
          "execution_count": 3
        }
      ],
      "source": [
        "train_x = tf.expand_dims(train_x, 3)\n",
        "test_x = tf.expand_dims(test_x, 3)\n",
        "val_x = train_x[:5000]\n",
        "val_y = train_y[:5000]\n",
        "train_x.shape"
      ]
    },
    {
      "cell_type": "code",
      "execution_count": 6,
      "id": "932346b8-8227-448e-aa93-8912ca971962",
      "metadata": {
        "id": "932346b8-8227-448e-aa93-8912ca971962"
      },
      "outputs": [],
      "source": [
        "lenet_5_model = keras.models.Sequential([\n",
        "    keras.layers.Conv2D(6, kernel_size=5, strides=1,  activation='tanh', input_shape=train_x[0].shape, padding='same', use_bias=False), #C1\n",
        "    keras.layers.AveragePooling2D(), #S2\n",
        "    keras.layers.Conv2D(16, kernel_size=5, strides=1, activation='tanh', padding='valid', use_bias=False), #C3\n",
        "    keras.layers.AveragePooling2D(), #S4\n",
        "    keras.layers.Flatten(), #Flatten\n",
        "    keras.layers.Dense(120, activation='tanh', use_bias=False), #C5\n",
        "    keras.layers.Dense(84, activation='tanh', use_bias=False), #F6\n",
        "    keras.layers.Dense(10, activation='softmax', use_bias=False) #Output layer\n",
        "])"
      ]
    },
    {
      "cell_type": "code",
      "execution_count": 7,
      "id": "0f9c7fb0-964d-4279-8347-1533097d7c66",
      "metadata": {
        "id": "0f9c7fb0-964d-4279-8347-1533097d7c66"
      },
      "outputs": [],
      "source": [
        "lenet_5_model.compile(optimizer='adam',loss=keras.losses.sparse_categorical_crossentropy, metrics=['accuracy'])"
      ]
    },
    {
      "cell_type": "code",
      "execution_count": 8,
      "id": "c1dadc66-075f-4398-9849-4dc87647163f",
      "metadata": {
        "colab": {
          "base_uri": "https://localhost:8080/"
        },
        "id": "c1dadc66-075f-4398-9849-4dc87647163f",
        "outputId": "f1dd36a7-5366-412c-9ac8-28c4914dfb8e"
      },
      "outputs": [
        {
          "output_type": "stream",
          "name": "stdout",
          "text": [
            "Epoch 1/5\n",
            "1875/1875 [==============================] - 10s 4ms/step - loss: 0.2309 - accuracy: 0.9324 - val_loss: 0.0830 - val_accuracy: 0.9776\n",
            "Epoch 2/5\n",
            "1875/1875 [==============================] - 7s 4ms/step - loss: 0.0873 - accuracy: 0.9735 - val_loss: 0.0609 - val_accuracy: 0.9840\n",
            "Epoch 3/5\n",
            "1875/1875 [==============================] - 7s 3ms/step - loss: 0.0612 - accuracy: 0.9810 - val_loss: 0.0407 - val_accuracy: 0.9882\n",
            "Epoch 4/5\n",
            "1875/1875 [==============================] - 7s 4ms/step - loss: 0.0460 - accuracy: 0.9861 - val_loss: 0.0418 - val_accuracy: 0.9888\n",
            "Epoch 5/5\n",
            "1875/1875 [==============================] - 7s 4ms/step - loss: 0.0384 - accuracy: 0.9880 - val_loss: 0.0286 - val_accuracy: 0.9914\n"
          ]
        },
        {
          "output_type": "execute_result",
          "data": {
            "text/plain": [
              "<keras.src.callbacks.History at 0x7885c6027640>"
            ]
          },
          "metadata": {},
          "execution_count": 8
        }
      ],
      "source": [
        "lenet_5_model.fit(train_x, train_y, epochs=5, validation_data=(val_x, val_y))"
      ]
    },
    {
      "cell_type": "code",
      "execution_count": 10,
      "id": "b9886896-43dc-4831-a595-7f040928b87f",
      "metadata": {
        "colab": {
          "base_uri": "https://localhost:8080/"
        },
        "id": "b9886896-43dc-4831-a595-7f040928b87f",
        "outputId": "938aa75c-22d7-427c-9708-d63db35a975c"
      },
      "outputs": [
        {
          "output_type": "stream",
          "name": "stdout",
          "text": [
            "313/313 [==============================] - 1s 4ms/step - loss: 0.0515 - accuracy: 0.9844\n"
          ]
        },
        {
          "output_type": "execute_result",
          "data": {
            "text/plain": [
              "[0.051536522805690765, 0.9843999743461609]"
            ]
          },
          "metadata": {},
          "execution_count": 10
        }
      ],
      "source": [
        "lenet_5_model.evaluate(test_x, test_y)"
      ]
    },
    {
      "cell_type": "code",
      "execution_count": 9,
      "id": "e6e8ca62-f863-4e73-acac-25cd7c8d91f9",
      "metadata": {
        "colab": {
          "base_uri": "https://localhost:8080/",
          "height": 482
        },
        "id": "e6e8ca62-f863-4e73-acac-25cd7c8d91f9",
        "outputId": "348e60cb-2317-4dc7-9032-c41861f1b2c7"
      },
      "outputs": [
        {
          "output_type": "display_data",
          "data": {
            "text/plain": [
              "<Figure size 640x480 with 1 Axes>"
            ],
            "image/png": "[encoded data removed]"
          },
          "metadata": {}
        },
        {
          "output_type": "display_data",
          "data": {
            "text/plain": [
              "<Figure size 640x480 with 1 Axes>"
            ],
            "image/png": "[encoded data removed]"
          },
          "metadata": {}
        },
        {
          "output_type": "display_data",
          "data": {
            "text/plain": [
              "<Figure size 640x480 with 1 Axes>"
            ],
            "image/png": "[encoded data removed]"
          },
          "metadata": {}
        }
      ],
      "source": [
        "for i in range(3):\n",
        "    pyplot.subplot(330 + 1 + i)\n",
        "    pyplot.imshow(train_x[i], cmap=pyplot.get_cmap('gray'))\n",
        "    pyplot.show()"
      ]
    },
    {
      "cell_type": "code",
      "execution_count": 11,
      "id": "329cc15c-9b02-462d-b4e3-5b9d4c765bd8",
      "metadata": {
        "colab": {
          "base_uri": "https://localhost:8080/",
          "height": 193
        },
        "id": "329cc15c-9b02-462d-b4e3-5b9d4c765bd8",
        "outputId": "51ad98f9-f39b-4f8b-a87b-df1f414238c5"
      },
      "outputs": [
        {
          "output_type": "error",
          "ename": "NameError",
          "evalue": "ignored",
          "traceback": [
            "\u001b[0;31m---------------------------------------------------------------------------\u001b[0m",
            "\u001b[0;31mNameError\u001b[0m                                 Traceback (most recent call last)",
            "\u001b[0;32m<ipython-input-11-82c3847478e0>\u001b[0m in \u001b[0;36m<cell line: 2>\u001b[0;34m()\u001b[0m\n\u001b[1;32m      1\u001b[0m \u001b[0mlenet_5_model\u001b[0m\u001b[0;34m.\u001b[0m\u001b[0msave\u001b[0m\u001b[0;34m(\u001b[0m\u001b[0;34m'lenet_5_model'\u001b[0m\u001b[0;34m)\u001b[0m\u001b[0;34m\u001b[0m\u001b[0;34m\u001b[0m\u001b[0m\n\u001b[0;32m----> 2\u001b[0;31m \u001b[0mprint\u001b[0m\u001b[0;34m(\u001b[0m\u001b[0mos\u001b[0m\u001b[0;34m.\u001b[0m\u001b[0mlistdir\u001b[0m\u001b[0;34m(\u001b[0m\u001b[0;34m'lenet_5_model'\u001b[0m\u001b[0;34m)\u001b[0m\u001b[0;34m)\u001b[0m\u001b[0;34m\u001b[0m\u001b[0;34m\u001b[0m\u001b[0m\n\u001b[0m",
            "\u001b[0;31mNameError\u001b[0m: name 'os' is not defined"
          ]
        }
      ],
      "source": [
        "lenet_5_model.save('lenet_5_model')\n",
        "print(os.listdir('lenet_5_model'))"
      ]
    },
    {
      "cell_type": "code",
      "execution_count": 11,
      "id": "d883f56b-b134-4d81-aedb-1a0213cf2e5a",
      "metadata": {
        "id": "d883f56b-b134-4d81-aedb-1a0213cf2e5a"
      },
      "outputs": [],
      "source": [
        "lenet_5_model.save(\"my.txt\")"
      ]
    },
    {
      "cell_type": "code",
      "execution_count": 37,
      "id": "e4039b16-8b65-4686-8e77-d8933555c2b1",
      "metadata": {
        "colab": {
          "base_uri": "https://localhost:8080/"
        },
        "id": "e4039b16-8b65-4686-8e77-d8933555c2b1",
        "outputId": "1aa8bc18-6db6-4791-9e63-c7ca50bc0d02"
      },
      "outputs": [
        {
          "output_type": "stream",
          "name": "stdout",
          "text": [
            "Model: \"sequential_1\"\n",
            "_________________________________________________________________\n",
            " Layer (type)                Output Shape              Param #   \n",
            "=================================================================\n",
            " conv2d_2 (Conv2D)           (None, 28, 28, 6)         150       \n",
            "                                                                 \n",
            " average_pooling2d_2 (Avera  (None, 14, 14, 6)         0         \n",
            " gePooling2D)                                                    \n",
            "                                                                 \n",
            " conv2d_3 (Conv2D)           (None, 10, 10, 16)        2400      \n",
            "                                                                 \n",
            " average_pooling2d_3 (Avera  (None, 5, 5, 16)          0         \n",
            " gePooling2D)                                                    \n",
            "                                                                 \n",
            " flatten_1 (Flatten)         (None, 400)               0         \n",
            "                                                                 \n",
            " dense_3 (Dense)             (None, 120)               48000     \n",
            "                                                                 \n",
            " dense_4 (Dense)             (None, 84)                10080     \n",
            "                                                                 \n",
            " dense_5 (Dense)             (None, 10)                840       \n",
            "                                                                 \n",
            "=================================================================\n",
            "Total params: 61470 (240.12 KB)\n",
            "Trainable params: 61470 (240.12 KB)\n",
            "Non-trainable params: 0 (0.00 Byte)\n",
            "_________________________________________________________________\n"
          ]
        }
      ],
      "source": [
        "lenet_5_model.summary()"
      ]
    },
    {
      "cell_type": "code",
      "execution_count": 38,
      "id": "24d1a878-c7a2-4688-9dca-35ab8c5edd2c",
      "metadata": {
        "id": "24d1a878-c7a2-4688-9dca-35ab8c5edd2c"
      },
      "outputs": [],
      "source": [
        "json_model = lenet_5_model.to_json()"
      ]
    },
    {
      "cell_type": "code",
      "execution_count": 39,
      "id": "c3a3b789-e537-4677-931e-6688b2786be7",
      "metadata": {
        "id": "c3a3b789-e537-4677-931e-6688b2786be7"
      },
      "outputs": [],
      "source": [
        "with open('fashionmnist_model.json', 'w') as json_file:\n",
        "    json_file.write(json_model)"
      ]
    },
    {
      "cell_type": "code",
      "execution_count": 12,
      "id": "14bd5eec-4991-4eed-ac6e-4d6d126a167d",
      "metadata": {
        "id": "14bd5eec-4991-4eed-ac6e-4d6d126a167d"
      },
      "outputs": [],
      "source": [
        "lenet_5_model.save_weights('FashionMNIST_weights.h5')"
      ]
    },
    {
      "cell_type": "code",
      "execution_count": 18,
      "id": "929aed57-808a-4df6-a9f7-ce9eec9d4ba1",
      "metadata": {
        "colab": {
          "base_uri": "https://localhost:8080/"
        },
        "id": "929aed57-808a-4df6-a9f7-ce9eec9d4ba1",
        "outputId": "3cb3149c-aef5-4f52-f0d8-a4a0d52445b7"
      },
      "outputs": [
        {
          "output_type": "execute_result",
          "data": {
            "text/plain": [
              "[array([[[[ 0.04921122,  0.01317491, -0.30984765,  0.13334852,\n",
              "           -0.34144077,  0.11365784]],\n",
              " \n",
              "         [[ 0.02822328, -0.15514615, -0.24909978,  0.50686073,\n",
              "           -0.46079078,  0.14457363]],\n",
              " \n",
              "         [[ 0.01343575, -0.0044383 , -0.14493392,  0.29769644,\n",
              "           -0.35630903,  0.5261318 ]],\n",
              " \n",
              "         [[ 0.30050313, -0.24241044, -0.11289859, -0.00322628,\n",
              "           -0.02803247,  0.38961777]],\n",
              " \n",
              "         [[ 0.15295008, -0.19462152, -0.1341976 , -0.3040234 ,\n",
              "           -0.05268985,  0.3777131 ]]],\n",
              " \n",
              " \n",
              "        [[[ 0.23134688, -0.0306934 , -0.2984502 ,  0.05415579,\n",
              "           -0.49320364,  0.10566639]],\n",
              " \n",
              "         [[-0.16216643, -0.0541052 , -0.02564456,  0.8394994 ,\n",
              "           -0.5345097 ,  0.3887105 ]],\n",
              " \n",
              "         [[-0.16491859, -0.23347847, -0.2323649 ,  0.13467363,\n",
              "           -0.2923712 ,  0.23950519]],\n",
              " \n",
              "         [[ 0.0341038 , -0.26642987, -0.13282005, -0.2048661 ,\n",
              "            0.18615583,  0.4511818 ]],\n",
              " \n",
              "         [[ 0.14637056, -0.27307466, -0.2844775 , -0.12163406,\n",
              "           -0.01769644,  0.20450519]]],\n",
              " \n",
              " \n",
              "        [[[ 0.02431371, -0.09219603, -0.27489787,  0.33584386,\n",
              "            0.01177797,  0.32425293]],\n",
              " \n",
              "         [[-0.27005976,  0.05626501,  0.06639867,  0.7172939 ,\n",
              "            0.16591816,  0.5878852 ]],\n",
              " \n",
              "         [[-0.2656251 , -0.09245501,  0.14308539, -0.04660382,\n",
              "            0.2449392 ,  0.37177622]],\n",
              " \n",
              "         [[-0.19794257, -0.02088248, -0.18778755, -0.16478713,\n",
              "            0.27573076,  0.3274787 ]],\n",
              " \n",
              "         [[-0.2959795 , -0.02870112, -0.14075612, -0.2558786 ,\n",
              "            0.1046318 ,  0.28311512]]],\n",
              " \n",
              " \n",
              "        [[[ 0.15959498,  0.31274936,  0.35201204,  0.5158589 ,\n",
              "            0.14838053,  0.3488171 ]],\n",
              " \n",
              "         [[-0.17195563,  0.27475825,  0.41804   ,  0.37882897,\n",
              "            0.28975022,  0.6075891 ]],\n",
              " \n",
              "         [[-0.12278334,  0.43394375,  0.40780982,  0.04898598,\n",
              "            0.20355317,  0.21985994]],\n",
              " \n",
              "         [[-0.40298063,  0.6366311 ,  0.2793257 , -0.09592488,\n",
              "            0.41275147,  0.21589357]],\n",
              " \n",
              "         [[-0.11403089,  0.45138338,  0.01760604, -0.17998828,\n",
              "            0.19394636,  0.11046252]]],\n",
              " \n",
              " \n",
              "        [[[ 0.0565856 ,  0.35834876,  0.45719737,  0.25107205,\n",
              "           -0.05760011,  0.53658515]],\n",
              " \n",
              "         [[ 0.32181007,  0.5614213 ,  0.4498776 , -0.00679777,\n",
              "            0.03861795,  0.42143267]],\n",
              " \n",
              "         [[ 0.04196667,  0.546181  ,  0.19489293, -0.16080713,\n",
              "           -0.00133032,  0.40131348]],\n",
              " \n",
              "         [[ 0.12708096,  0.41537574,  0.08361977, -0.05184431,\n",
              "            0.05276727, -0.09003921]],\n",
              " \n",
              "         [[ 0.16891913,  0.4264787 ,  0.10132769, -0.09772096,\n",
              "           -0.11972579, -0.1367323 ]]]], dtype=float32)]"
            ]
          },
          "metadata": {},
          "execution_count": 18
        }
      ],
      "source": [
        "array = lenet_5_model.layers[0].get_weights()\n",
        "lenet_5_model.layers[0].get_weights()"
      ]
    },
    {
      "cell_type": "code",
      "source": [
        "array[0].shape\n",
        "array[0].reshape((25,6)).transpose()\n"
      ],
      "metadata": {
        "colab": {
          "base_uri": "https://localhost:8080/"
        },
        "id": "VkP_sIqf8Ebr",
        "outputId": "0f89abcc-3a3c-44b3-cf47-78e0cb282f3b"
      },
      "id": "VkP_sIqf8Ebr",
      "execution_count": 39,
      "outputs": [
        {
          "output_type": "execute_result",
          "data": {
            "text/plain": [
              "array([[ 0.04921122,  0.02822328,  0.01343575,  0.30050313,  0.15295008,\n",
              "         0.23134688, -0.16216643, -0.16491859,  0.0341038 ,  0.14637056,\n",
              "         0.02431371, -0.27005976, -0.2656251 , -0.19794257, -0.2959795 ,\n",
              "         0.15959498, -0.17195563, -0.12278334, -0.40298063, -0.11403089,\n",
              "         0.0565856 ,  0.32181007,  0.04196667,  0.12708096,  0.16891913],\n",
              "       [ 0.01317491, -0.15514615, -0.0044383 , -0.24241044, -0.19462152,\n",
              "        -0.0306934 , -0.0541052 , -0.23347847, -0.26642987, -0.27307466,\n",
              "        -0.09219603,  0.05626501, -0.09245501, -0.02088248, -0.02870112,\n",
              "         0.31274936,  0.27475825,  0.43394375,  0.6366311 ,  0.45138338,\n",
              "         0.35834876,  0.5614213 ,  0.546181  ,  0.41537574,  0.4264787 ],\n",
              "       [-0.30984765, -0.24909978, -0.14493392, -0.11289859, -0.1341976 ,\n",
              "        -0.2984502 , -0.02564456, -0.2323649 , -0.13282005, -0.2844775 ,\n",
              "        -0.27489787,  0.06639867,  0.14308539, -0.18778755, -0.14075612,\n",
              "         0.35201204,  0.41804   ,  0.40780982,  0.2793257 ,  0.01760604,\n",
              "         0.45719737,  0.4498776 ,  0.19489293,  0.08361977,  0.10132769],\n",
              "       [ 0.13334852,  0.50686073,  0.29769644, -0.00322628, -0.3040234 ,\n",
              "         0.05415579,  0.8394994 ,  0.13467363, -0.2048661 , -0.12163406,\n",
              "         0.33584386,  0.7172939 , -0.04660382, -0.16478713, -0.2558786 ,\n",
              "         0.5158589 ,  0.37882897,  0.04898598, -0.09592488, -0.17998828,\n",
              "         0.25107205, -0.00679777, -0.16080713, -0.05184431, -0.09772096],\n",
              "       [-0.34144077, -0.46079078, -0.35630903, -0.02803247, -0.05268985,\n",
              "        -0.49320364, -0.5345097 , -0.2923712 ,  0.18615583, -0.01769644,\n",
              "         0.01177797,  0.16591816,  0.2449392 ,  0.27573076,  0.1046318 ,\n",
              "         0.14838053,  0.28975022,  0.20355317,  0.41275147,  0.19394636,\n",
              "        -0.05760011,  0.03861795, -0.00133032,  0.05276727, -0.11972579],\n",
              "       [ 0.11365784,  0.14457363,  0.5261318 ,  0.38961777,  0.3777131 ,\n",
              "         0.10566639,  0.3887105 ,  0.23950519,  0.4511818 ,  0.20450519,\n",
              "         0.32425293,  0.5878852 ,  0.37177622,  0.3274787 ,  0.28311512,\n",
              "         0.3488171 ,  0.6075891 ,  0.21985994,  0.21589357,  0.11046252,\n",
              "         0.53658515,  0.42143267,  0.40131348, -0.09003921, -0.1367323 ]],\n",
              "      dtype=float32)"
            ]
          },
          "metadata": {},
          "execution_count": 39
        }
      ]
    },
    {
      "cell_type": "code",
      "source": [],
      "metadata": {
        "colab": {
          "base_uri": "https://localhost:8080/"
        },
        "id": "vb6zSypdGWe-",
        "outputId": "5951ce92-793b-4a4c-a15b-ad3bf5f033f6"
      },
      "id": "vb6zSypdGWe-",
      "execution_count": 52,
      "outputs": [
        {
          "output_type": "execute_result",
          "data": {
            "text/plain": [
              "array([-0.1380514 ,  0.05189569,  0.02828893, ..., -0.01252477,\n",
              "        0.00065355,  0.11137357], dtype=float32)"
            ]
          },
          "metadata": {},
          "execution_count": 52
        }
      ]
    },
    {
      "cell_type": "code",
      "source": [
        "weights = array[0].reshape((25,6)).transpose()\n",
        "weights_shape = weights.shape\n",
        "\n",
        "print(weights_shape)\n",
        "\n",
        "with open('layer_weights_0.bin', 'wb') as file:\n",
        "    for weight_matrix in weights:\n",
        "        # Flatten the weight matrix and write it to the file\n",
        "        weight_matrix.flatten().tofile(file)"
      ],
      "metadata": {
        "colab": {
          "base_uri": "https://localhost:8080/"
        },
        "id": "jZmYWldDBJY6",
        "outputId": "b2afe401-2746-4a51-c2b4-59c2be8689f4"
      },
      "id": "jZmYWldDBJY6",
      "execution_count": 41,
      "outputs": [
        {
          "output_type": "stream",
          "name": "stdout",
          "text": [
            "(6, 25)\n"
          ]
        }
      ]
    },
    {
      "cell_type": "code",
      "source": [
        "layer0 = lenet_5_model.layers[7]\n",
        "\n",
        "weights = layer0.get_weights()\n",
        "weights_shape = weights[0].shape\n",
        "\n",
        "print(weights_shape)\n",
        "\n",
        "with open('layer_weights_7.bin', 'wb') as file:\n",
        "    for weight_matrix in weights:\n",
        "        # Flatten the weight matrix and write it to the file\n",
        "        weight_matrix.flatten().tofile(file)\n",
        "\n"
      ],
      "metadata": {
        "colab": {
          "base_uri": "https://localhost:8080/"
        },
        "id": "2zPQ9yQ1yHTj",
        "outputId": "0f010a14-1486-429f-ce6e-9a4e99887b74"
      },
      "id": "2zPQ9yQ1yHTj",
      "execution_count": 69,
      "outputs": [
        {
          "output_type": "stream",
          "name": "stdout",
          "text": [
            "(84, 10)\n"
          ]
        }
      ]
    },
    {
      "cell_type": "code",
      "source": [
        "array2 = lenet_5_model.layers[2].get_weights()\n",
        "lenet_5_model.layers[2].get_weights()"
      ],
      "metadata": {
        "colab": {
          "base_uri": "https://localhost:8080/"
        },
        "id": "X-yRUqICCMRR",
        "outputId": "44a8573b-7cf4-4555-9a31-91455bf4f6a0"
      },
      "id": "X-yRUqICCMRR",
      "execution_count": 47,
      "outputs": [
        {
          "output_type": "execute_result",
          "data": {
            "text/plain": [
              "[array([[[[-1.38051406e-01,  5.18956929e-02,  2.82889344e-02, ...,\n",
              "           -3.47239450e-02,  1.67418852e-01, -1.67560130e-01],\n",
              "          [ 1.57646447e-01, -9.15947035e-02,  1.04600348e-01, ...,\n",
              "           -6.82865009e-02, -1.14421643e-01,  7.09265620e-02],\n",
              "          [ 2.45743260e-01, -2.23316923e-01, -5.10070883e-02, ...,\n",
              "            6.60229027e-02,  2.13264022e-02,  1.78022012e-02],\n",
              "          [-5.22904098e-02, -6.43969923e-02,  2.89506838e-02, ...,\n",
              "           -6.75516017e-03,  4.40270565e-02,  6.35941103e-02],\n",
              "          [ 6.96640015e-02, -7.82053545e-03,  3.32681537e-02, ...,\n",
              "           -1.13654017e-01, -6.33801594e-02,  1.51407838e-01],\n",
              "          [-5.73156662e-02,  9.33991186e-03,  1.81851424e-02, ...,\n",
              "            2.57532112e-02, -2.45124623e-02, -1.60354391e-01]],\n",
              " \n",
              "         [[ 1.63779795e-01,  4.66571888e-04, -8.70570540e-02, ...,\n",
              "            7.54531175e-02,  1.95587426e-01, -2.03186184e-01],\n",
              "          [ 9.32956487e-02, -9.63646993e-02, -2.85527129e-02, ...,\n",
              "            7.86147267e-02,  1.09088115e-01,  5.94816878e-02],\n",
              "          [-1.04561811e-02,  2.35505253e-02,  2.21739355e-02, ...,\n",
              "           -1.17859527e-01,  4.31126542e-02,  4.79115620e-02],\n",
              "          [-2.34923020e-01, -3.46139520e-02, -1.12478577e-01, ...,\n",
              "           -4.09256034e-02, -1.08714327e-01,  1.19835533e-01],\n",
              "          [ 8.83593261e-02,  2.01516841e-02,  1.61316335e-01, ...,\n",
              "            6.42172322e-02,  1.58849269e-01,  7.43659064e-02],\n",
              "          [-1.80791959e-01,  5.87580241e-02,  1.55462593e-01, ...,\n",
              "            4.38776240e-02,  9.68981255e-03,  3.95589583e-02]],\n",
              " \n",
              "         [[ 1.01344094e-01, -1.18737500e-02, -7.87247643e-02, ...,\n",
              "           -1.32330745e-01, -2.85167396e-01,  5.50494976e-02],\n",
              "          [-1.41172633e-01, -1.52432565e-02, -8.62196311e-02, ...,\n",
              "           -1.21959448e-02,  1.83967486e-01, -7.09762201e-02],\n",
              "          [-1.02319699e-02, -1.25882000e-01, -3.45162265e-02, ...,\n",
              "            1.11397319e-01,  2.23325133e-01,  4.18237038e-02],\n",
              "          [-1.54612347e-01,  1.79204583e-01,  1.20844267e-01, ...,\n",
              "           -1.21755041e-01, -9.48083103e-02,  1.80479169e-01],\n",
              "          [-1.35379598e-01, -2.27340013e-02,  7.55522996e-02, ...,\n",
              "            1.51338816e-01,  5.18176794e-01,  8.62272903e-02],\n",
              "          [-4.97704893e-02,  3.73071879e-02,  2.46344700e-01, ...,\n",
              "            6.46073520e-02,  4.52138833e-04, -1.40369125e-02]],\n",
              " \n",
              "         [[ 1.50153667e-01, -1.63368080e-02, -1.35627985e-01, ...,\n",
              "           -9.21489391e-03, -9.70223248e-02,  1.52393639e-01],\n",
              "          [-1.58439368e-01, -4.15502191e-02, -3.26003544e-02, ...,\n",
              "           -1.35116547e-01, -1.24193784e-02, -3.51448730e-02],\n",
              "          [-1.54841065e-01,  9.24191996e-03, -3.22581261e-01, ...,\n",
              "           -3.32487896e-02,  4.31703478e-01, -2.57065818e-02],\n",
              "          [-2.08762482e-01,  4.73110378e-03,  8.95664170e-02, ...,\n",
              "           -6.24652542e-02,  5.14820457e-01,  4.56738006e-03],\n",
              "          [-1.39512559e-02, -1.77962556e-02,  6.06347471e-02, ...,\n",
              "            6.61690459e-02,  7.99141452e-02,  2.20923483e-01],\n",
              "          [-1.31182373e-01,  4.12071645e-02,  2.68503815e-01, ...,\n",
              "            1.94353268e-01,  1.40536144e-01, -1.19155899e-01]],\n",
              " \n",
              "         [[ 5.76127646e-03, -7.17323422e-02, -1.77608073e-01, ...,\n",
              "           -9.07949060e-02,  3.09184892e-03,  6.49763346e-02],\n",
              "          [-9.29381549e-02,  9.39368755e-02,  2.05560058e-01, ...,\n",
              "            5.65106012e-02, -2.65498161e-01, -2.13420495e-01],\n",
              "          [-5.91506064e-02,  1.66114196e-01,  1.15987593e-02, ...,\n",
              "            7.18755787e-03, -1.68985337e-01, -1.15341125e-02],\n",
              "          [-1.02111034e-01, -1.26288176e-01,  1.51997924e-01, ...,\n",
              "           -6.24958649e-02,  1.90554932e-01, -9.12097748e-03],\n",
              "          [-6.77563325e-02,  8.16788897e-02,  1.97403595e-01, ...,\n",
              "            7.75995106e-02, -1.67228922e-01,  6.08334243e-02],\n",
              "          [-2.01149672e-01,  1.27111450e-01,  1.23577133e-01, ...,\n",
              "            8.32056552e-02,  7.63935596e-02, -8.39516595e-02]]],\n",
              " \n",
              " \n",
              "        [[[-9.27559659e-02, -4.31872010e-02,  1.27841622e-01, ...,\n",
              "           -6.36721263e-03, -1.85816344e-02,  9.16331336e-02],\n",
              "          [-5.54890111e-02, -2.94072241e-01,  3.21815088e-02, ...,\n",
              "           -3.32426913e-02, -3.64180617e-02, -2.71280885e-01],\n",
              "          [ 3.51400003e-02,  7.26608420e-03, -5.92514351e-02, ...,\n",
              "            3.29566672e-02,  1.86750934e-01, -5.66331185e-02],\n",
              "          [-7.04980548e-03, -1.05842099e-01,  1.49382453e-04, ...,\n",
              "           -4.71878797e-02,  2.12570220e-01,  1.60885274e-01],\n",
              "          [ 1.53309980e-03,  2.13261038e-01, -1.13910712e-01, ...,\n",
              "           -1.69751644e-02, -1.42595544e-01, -1.92236751e-01],\n",
              "          [-5.66687062e-02,  7.91365802e-02,  9.80689749e-02, ...,\n",
              "            9.28958580e-02, -4.15880047e-02,  9.03308275e-04]],\n",
              " \n",
              "         [[ 1.13294989e-01,  1.62060112e-02,  1.02422476e-01, ...,\n",
              "            2.57515106e-02, -1.84381559e-01,  1.33420497e-01],\n",
              "          [-3.38133541e-03, -2.74930239e-01, -2.02122420e-01, ...,\n",
              "            2.38920143e-03,  1.23240165e-01, -2.38237232e-01],\n",
              "          [-1.44708425e-01, -7.40415305e-02, -1.68237492e-01, ...,\n",
              "           -1.33533748e-02,  2.16761474e-02, -2.65415817e-01],\n",
              "          [-9.17598698e-03,  2.04198912e-01,  7.80057013e-02, ...,\n",
              "            3.42484526e-02, -1.92197144e-01,  2.60818094e-01],\n",
              "          [-2.15925351e-01,  1.82164267e-01, -2.99286455e-01, ...,\n",
              "            2.06528023e-01,  4.13152993e-01, -1.79558486e-01],\n",
              "          [-1.28320858e-01,  1.29880890e-01,  5.14551736e-02, ...,\n",
              "            7.11841583e-02,  1.08540572e-01,  4.76324819e-02]],\n",
              " \n",
              "         [[ 7.75132328e-02, -2.03320384e-01,  1.71775237e-01, ...,\n",
              "           -1.17861852e-02, -3.27257812e-02, -2.31414009e-02],\n",
              "          [-1.66581720e-02, -2.48265252e-01, -3.26406658e-01, ...,\n",
              "           -1.65442869e-01, -6.21933788e-02, -1.31487340e-01],\n",
              "          [ 2.40266472e-02, -2.07170069e-01, -4.73484874e-01, ...,\n",
              "           -5.96304424e-02,  3.39979589e-01, -1.96637109e-01],\n",
              "          [-1.57150283e-01,  1.52857438e-01,  8.21336955e-02, ...,\n",
              "           -1.68190897e-03,  1.89870849e-01,  7.77025744e-02],\n",
              "          [-1.01885624e-01,  3.91226001e-02, -5.29455543e-01, ...,\n",
              "           -7.18155801e-02,  4.03398037e-01,  5.85039407e-02],\n",
              "          [-1.18139401e-01, -1.81078389e-02,  1.27810434e-01, ...,\n",
              "            1.18859842e-01,  2.14245573e-01, -4.59713042e-02]],\n",
              " \n",
              "         [[ 1.93502486e-01, -2.21960545e-01,  8.91850889e-02, ...,\n",
              "            1.15243040e-01, -5.99481575e-02,  8.32538977e-02],\n",
              "          [-5.20335734e-02, -1.68397784e-01, -2.87634075e-01, ...,\n",
              "           -1.09552287e-01, -3.01360428e-01, -1.22487848e-03],\n",
              "          [-4.57506478e-02, -2.58652806e-01, -7.35902786e-01, ...,\n",
              "           -2.09721088e-01,  1.97383650e-02,  5.58404289e-02],\n",
              "          [-1.35094464e-01,  1.45451427e-01, -2.86005586e-02, ...,\n",
              "            1.53499186e-01,  7.51493633e-01,  2.31124476e-01],\n",
              "          [ 1.59262285e-01,  1.19161092e-01, -2.31638536e-01, ...,\n",
              "           -1.24434769e-01, -5.42197227e-01,  1.22149713e-01],\n",
              "          [-4.80267741e-02,  1.87650621e-01,  6.48198351e-02, ...,\n",
              "            3.77028584e-02,  1.76622033e-01,  2.47321138e-03]],\n",
              " \n",
              "         [[-4.80110645e-02, -1.90092802e-01, -3.09437335e-01, ...,\n",
              "            3.18629518e-02,  1.05438769e-01,  1.13589637e-01],\n",
              "          [-1.42691597e-01, -1.10110261e-01,  6.65976778e-02, ...,\n",
              "            1.19863488e-01, -2.83348411e-01, -1.73116341e-01],\n",
              "          [-3.57261002e-02, -1.22082241e-01, -3.02254051e-01, ...,\n",
              "           -1.70940936e-01, -2.27833405e-01, -1.17978547e-02],\n",
              "          [-1.76898420e-01,  2.05294400e-01, -4.47405363e-03, ...,\n",
              "           -1.38251141e-01,  1.67954564e-01,  2.12074891e-02],\n",
              "          [ 1.75625980e-01,  5.51816300e-02,  2.21690051e-02, ...,\n",
              "           -7.80194774e-02, -1.72019184e-01,  1.33335024e-01],\n",
              "          [-9.31652784e-02,  1.50899827e-01,  2.24230334e-01, ...,\n",
              "           -8.51086453e-02,  1.11641467e-01,  1.98905841e-02]]],\n",
              " \n",
              " \n",
              "        [[[ 8.12068861e-03,  2.79904027e-02,  2.30420846e-03, ...,\n",
              "            6.69713914e-02,  6.43613935e-02,  5.77305630e-02],\n",
              "          [ 1.03922158e-01, -2.94525802e-01,  1.87407479e-01, ...,\n",
              "           -3.56912091e-02, -4.27009873e-02, -5.02577573e-02],\n",
              "          [ 1.04791276e-01,  8.46260116e-02,  1.62223667e-01, ...,\n",
              "            4.30542342e-02, -6.48797825e-02, -5.85506810e-03],\n",
              "          [ 6.97755665e-02, -8.09061751e-02, -2.02833004e-02, ...,\n",
              "            1.94650888e-02, -5.14067244e-03,  1.25434130e-01],\n",
              "          [-5.32131046e-02,  1.30550548e-01,  1.36980474e-01, ...,\n",
              "           -1.49685264e-01, -2.87956782e-02, -6.77472055e-02],\n",
              "          [-7.01295659e-02, -5.02641648e-02, -8.50904211e-02, ...,\n",
              "            3.72657329e-02,  1.26315534e-01,  7.76541186e-03]],\n",
              " \n",
              "         [[ 1.14645794e-01,  3.00242156e-01,  4.67172777e-03, ...,\n",
              "            1.76276371e-01, -1.35445699e-01,  5.60863912e-02],\n",
              "          [ 3.51703227e-01, -6.11936212e-01,  9.92972180e-02, ...,\n",
              "           -1.04150353e-02, -5.71054704e-02, -2.64025301e-01],\n",
              "          [ 2.63521373e-01, -3.54798377e-01,  2.82686263e-01, ...,\n",
              "           -9.13162977e-02, -8.32746364e-03, -8.16624090e-02],\n",
              "          [-6.31377548e-02,  9.68916267e-02, -1.41430032e-02, ...,\n",
              "            6.26636744e-02, -5.54139279e-02,  2.53232289e-02],\n",
              "          [-4.38165031e-02, -3.44362795e-01, -5.66945896e-02, ...,\n",
              "            1.12921726e-02,  4.32247579e-01, -4.67287712e-02],\n",
              "          [ 2.07242873e-02, -1.80028275e-01,  4.60354537e-02, ...,\n",
              "           -7.73876309e-02,  1.94600254e-01,  5.21041788e-02]],\n",
              " \n",
              "         [[ 3.53546813e-02,  2.06842199e-01,  1.52943149e-01, ...,\n",
              "            1.48723707e-01, -6.13352582e-02,  2.09442880e-02],\n",
              "          [ 2.20532328e-01, -6.50333047e-01,  1.06040366e-01, ...,\n",
              "           -9.07415748e-02, -4.72631305e-02, -2.08283052e-01],\n",
              "          [ 4.57994282e-01, -7.88761377e-01,  1.79295108e-01, ...,\n",
              "           -1.54659882e-01,  2.33782589e-01, -7.13513419e-02],\n",
              "          [-1.57817230e-01,  1.03865206e-01, -6.01097047e-02, ...,\n",
              "            1.46532446e-01,  4.82041448e-01,  1.74282622e-02],\n",
              "          [ 2.46599261e-02, -5.80078959e-01,  9.94591713e-02, ...,\n",
              "            6.72630453e-03, -1.01458438e-01,  2.26835445e-01],\n",
              "          [ 6.13330193e-02, -1.04331516e-01, -8.37001652e-02, ...,\n",
              "            1.00132143e-02,  9.79788750e-02,  1.60718575e-01]],\n",
              " \n",
              "         [[ 1.19689517e-01,  6.78034350e-02,  1.64801851e-01, ...,\n",
              "            8.04398507e-02,  9.97977033e-02,  6.73819482e-02],\n",
              "          [ 1.08273514e-01, -5.01934648e-01, -7.29635954e-02, ...,\n",
              "            7.46157840e-02, -5.02133695e-03, -1.80576459e-01],\n",
              "          [ 3.12601417e-01, -5.06877363e-01,  2.39728130e-02, ...,\n",
              "            2.72431895e-02, -2.06002891e-01,  4.50668447e-02],\n",
              "          [-2.03325570e-01, -9.98205021e-02, -1.81551218e-01, ...,\n",
              "            1.74890548e-01,  2.82704502e-01,  8.99711624e-02],\n",
              "          [ 1.69425964e-01, -3.11769366e-01,  1.67180181e-01, ...,\n",
              "           -5.34507781e-02, -4.98625219e-01,  8.64998102e-02],\n",
              "          [ 9.24832933e-03, -1.37375459e-01, -4.06296663e-02, ...,\n",
              "           -8.03987011e-02,  1.30203828e-01,  6.03532791e-02]],\n",
              " \n",
              "         [[ 6.54647797e-02,  1.01358220e-01, -2.96834707e-02, ...,\n",
              "           -2.23197043e-02, -1.98055003e-02,  2.20147278e-02],\n",
              "          [-2.48990387e-01, -9.18444768e-02, -1.03214577e-01, ...,\n",
              "            1.21654101e-01, -1.38673307e-02, -1.79613605e-01],\n",
              "          [-2.62109041e-02, -2.45959088e-01, -1.24692366e-01, ...,\n",
              "           -2.33277250e-02,  1.63492322e-01, -4.20570672e-02],\n",
              "          [-2.33530030e-01,  4.56063226e-02, -2.74613768e-01, ...,\n",
              "           -8.19048956e-02, -7.31446315e-03,  2.58546174e-01],\n",
              "          [ 2.70268679e-01, -3.04176241e-01, -1.61186270e-02, ...,\n",
              "            2.32701123e-01,  9.40005928e-02, -1.18158430e-01],\n",
              "          [ 3.18972357e-02, -2.77826730e-02,  4.61204350e-02, ...,\n",
              "           -1.03261828e-01,  7.06873555e-03,  1.29802883e-01]]],\n",
              " \n",
              " \n",
              "        [[[-1.23439863e-01, -1.52840130e-02, -4.88871969e-02, ...,\n",
              "            9.62191969e-02,  1.24328494e-01,  4.84343059e-02],\n",
              "          [ 3.87358248e-01,  1.90902874e-01,  1.11462303e-01, ...,\n",
              "            9.27380025e-02, -2.10395411e-01, -1.65084153e-01],\n",
              "          [ 2.50537157e-01,  3.50945175e-01,  2.11314499e-01, ...,\n",
              "            1.12561462e-03, -2.64300287e-01, -1.53413087e-01],\n",
              "          [-5.10612270e-03, -1.55507252e-02, -1.01868868e-01, ...,\n",
              "           -1.56372245e-02, -1.26115635e-01, -9.22270194e-02],\n",
              "          [ 2.85708755e-01,  7.84698948e-02,  2.24560723e-01, ...,\n",
              "           -2.84821838e-01,  1.95095837e-02, -3.33664566e-02],\n",
              "          [ 4.22992036e-02, -1.43166766e-01, -1.63035356e-02, ...,\n",
              "           -7.71892294e-02,  5.12916744e-02,  3.43533023e-03]],\n",
              " \n",
              "         [[-1.96406886e-01,  1.21907599e-01, -6.79213181e-02, ...,\n",
              "            7.41793588e-02, -1.20910034e-01,  8.19204226e-02],\n",
              "          [ 3.13827217e-01,  2.86509022e-02,  6.01641349e-02, ...,\n",
              "           -1.85202528e-02, -2.05995277e-01, -2.62442112e-01],\n",
              "          [ 3.71271044e-01,  3.03678364e-01,  9.40416679e-02, ...,\n",
              "            2.27277391e-02, -2.71540195e-01,  4.74985875e-02],\n",
              "          [ 1.03403153e-02,  1.67281255e-01,  4.01387587e-02, ...,\n",
              "           -5.62415272e-02, -1.25814542e-01,  6.44236431e-02],\n",
              "          [ 4.04818207e-01, -1.68709770e-01,  8.15944672e-02, ...,\n",
              "            5.26412204e-02,  2.31360048e-01,  2.56606013e-01],\n",
              "          [-3.26570682e-02, -1.22847639e-01, -4.02716100e-02, ...,\n",
              "           -3.90084870e-02,  4.30619903e-03,  1.53568104e-01]],\n",
              " \n",
              "         [[-1.99025020e-01,  2.03577355e-01, -1.09754115e-01, ...,\n",
              "           -7.37403035e-02, -1.94914877e-01,  3.05922851e-02],\n",
              "          [ 1.33358136e-01,  1.70806661e-01, -1.39219929e-02, ...,\n",
              "            1.20210953e-01,  9.76419523e-02, -2.14968741e-01],\n",
              "          [ 4.54409897e-01,  2.84211159e-01,  4.71161045e-02, ...,\n",
              "            2.95601815e-01, -1.48882776e-01, -7.96031654e-02],\n",
              "          [ 1.56821638e-01, -1.13847815e-01,  6.07957654e-02, ...,\n",
              "            1.41235173e-01,  1.85600951e-01,  6.02505393e-02],\n",
              "          [ 3.05084497e-01,  3.18955243e-01,  1.55314937e-01, ...,\n",
              "            3.58505100e-01, -1.56485915e-01,  2.01643214e-01],\n",
              "          [ 1.48630813e-01, -1.28986657e-01, -3.21766511e-02, ...,\n",
              "            2.55778525e-02,  1.67670801e-01,  1.19951025e-01]],\n",
              " \n",
              "         [[-9.69393477e-02,  3.57566886e-02,  1.12301543e-01, ...,\n",
              "            3.11570037e-02,  8.80446136e-02, -1.53694794e-01],\n",
              "          [ 1.31014496e-01,  7.48308823e-02, -6.51371777e-02, ...,\n",
              "            1.18745558e-01,  9.49736536e-02, -7.49597177e-02],\n",
              "          [ 2.33103797e-01,  2.70238638e-01,  1.41239390e-01, ...,\n",
              "            1.58010885e-01,  6.01095669e-02,  2.44714562e-02],\n",
              "          [-8.24822634e-02, -1.19142033e-01, -2.32551191e-02, ...,\n",
              "            1.89749315e-01,  3.31948027e-02,  6.52816817e-02],\n",
              "          [ 2.55244762e-01,  3.95813137e-01,  4.34536785e-02, ...,\n",
              "            2.61954844e-01,  1.05240680e-01,  1.77395567e-01],\n",
              "          [ 1.71395764e-01, -2.53542721e-01, -1.01259798e-01, ...,\n",
              "           -3.82151939e-02,  1.21083319e-01,  1.58898875e-01]],\n",
              " \n",
              "         [[ 1.02414656e-02,  1.89261883e-02, -2.21204478e-02, ...,\n",
              "            1.44815594e-01, -1.90004230e-01, -1.12816304e-01],\n",
              "          [-1.77458063e-01,  5.09908833e-02,  3.34155001e-02, ...,\n",
              "            2.41617821e-02,  5.38825132e-02,  4.11812924e-02],\n",
              "          [-2.16613542e-02,  3.18660796e-01, -2.69729868e-02, ...,\n",
              "            7.59312510e-02,  6.76972568e-02,  2.09414050e-01],\n",
              "          [-1.05023652e-01, -7.52637461e-02, -2.81829327e-01, ...,\n",
              "           -7.64488801e-02, -6.62342906e-02,  2.73324370e-01],\n",
              "          [ 6.15393184e-03,  1.54064998e-01,  6.27880991e-02, ...,\n",
              "            1.21962294e-01,  3.07575613e-01,  6.95623681e-02],\n",
              "          [-8.23830664e-02, -2.55039334e-01,  7.44783357e-02, ...,\n",
              "           -2.00646684e-01,  1.13699131e-01,  6.56473264e-02]]],\n",
              " \n",
              " \n",
              "        [[[ 1.19888693e-01, -2.26209268e-01, -6.45896643e-02, ...,\n",
              "           -5.28886281e-02,  1.52794108e-01,  1.80766135e-01],\n",
              "          [-1.39537632e-01,  2.35412151e-01,  4.63857725e-02, ...,\n",
              "            1.30982399e-01, -6.74863756e-02, -1.79970369e-01],\n",
              "          [-1.02138475e-01,  8.57519060e-02,  6.70589730e-02, ...,\n",
              "            1.38555944e-01,  2.03336149e-01,  1.15454517e-01],\n",
              "          [ 1.16701603e-01,  1.66413277e-01, -1.49639636e-01, ...,\n",
              "            1.29286811e-01, -2.98191607e-02, -1.03454933e-01],\n",
              "          [-1.79177642e-01, -8.07957351e-02,  1.31654297e-03, ...,\n",
              "           -1.36810213e-01,  8.41008499e-02, -4.45219390e-02],\n",
              "          [ 1.48657963e-01,  4.76603843e-02, -6.48719296e-02, ...,\n",
              "           -3.97702307e-02, -2.51895748e-02,  1.93087049e-02]],\n",
              " \n",
              "         [[ 3.73995490e-02, -1.54187694e-01, -1.32948561e-02, ...,\n",
              "           -3.37151475e-02,  1.56067327e-01,  9.40422416e-02],\n",
              "          [-1.21182211e-01,  1.91241503e-01, -1.15533799e-01, ...,\n",
              "           -1.50135597e-02, -1.47789553e-01, -2.87842751e-01],\n",
              "          [-3.82379144e-01,  1.15340106e-01, -3.30110081e-02, ...,\n",
              "           -1.68232441e-01, -3.14741470e-02, -7.24644139e-02],\n",
              "          [-4.19937409e-02,  1.67161688e-01,  1.23668639e-02, ...,\n",
              "           -1.55288979e-01, -8.57605040e-02,  1.73723519e-01],\n",
              "          [-1.93213701e-01,  6.90902025e-02, -1.41900718e-01, ...,\n",
              "            1.70615360e-01,  1.33900046e-01, -1.85662746e-01],\n",
              "          [ 2.80684847e-02, -1.92005876e-02, -3.89665402e-02, ...,\n",
              "           -7.40877837e-02, -9.47811920e-03,  1.01745613e-01]],\n",
              " \n",
              "         [[-2.88478974e-02, -1.86549649e-01,  1.83319319e-02, ...,\n",
              "           -7.71002173e-02, -1.03815153e-01,  2.43265882e-01],\n",
              "          [-1.60582028e-02,  2.22380310e-01, -7.34461397e-02, ...,\n",
              "            7.23655745e-02, -1.77891314e-01, -3.79873097e-01],\n",
              "          [-3.09459835e-01,  2.15238243e-01,  2.67680325e-02, ...,\n",
              "           -7.08944425e-02, -2.17437044e-01, -3.24270129e-01],\n",
              "          [ 1.86574727e-01, -3.01350337e-02, -9.17057246e-02, ...,\n",
              "            1.01572275e-01,  2.33138766e-04,  9.32857469e-02],\n",
              "          [-2.83911586e-01,  2.66806424e-01, -1.57008380e-01, ...,\n",
              "            2.06573308e-01, -1.14419207e-01, -1.29712015e-01],\n",
              "          [ 1.45717278e-01, -5.38506098e-02,  7.59233236e-02, ...,\n",
              "            4.65501510e-02, -7.30126165e-04,  1.19783700e-01]],\n",
              " \n",
              "         [[-1.80726051e-02, -1.27338722e-01,  2.09671799e-02, ...,\n",
              "           -1.46308258e-01,  3.07251625e-02, -1.24681048e-01],\n",
              "          [ 9.20889378e-02,  1.58770368e-01, -3.35342847e-02, ...,\n",
              "           -5.08108661e-02,  4.80169570e-03, -1.43661588e-01],\n",
              "          [ 5.00582717e-02,  2.20002234e-01,  1.35776296e-01, ...,\n",
              "           -8.98476988e-02, -1.03230000e-01, -2.44250745e-01],\n",
              "          [ 1.31204426e-01, -3.55328321e-02, -8.79243761e-02, ...,\n",
              "            1.94945738e-01, -4.67083305e-02, -1.52967721e-02],\n",
              "          [-7.95036331e-02,  2.95018673e-01,  7.67382011e-02, ...,\n",
              "           -7.30757266e-02, -6.29685894e-02,  1.82641596e-01],\n",
              "          [ 7.33863115e-02, -1.57600835e-01,  7.11715256e-04, ...,\n",
              "            2.23187972e-02, -8.47507417e-02, -4.26715706e-03]],\n",
              " \n",
              "         [[ 6.96623176e-02, -7.65248686e-02,  9.18428823e-02, ...,\n",
              "            1.25397950e-01,  1.30774826e-02, -3.40759754e-01],\n",
              "          [ 1.20033406e-01, -7.66781271e-02, -3.88445109e-02, ...,\n",
              "           -1.15722148e-02, -9.73047018e-02,  2.01032773e-01],\n",
              "          [ 1.21669814e-01, -1.05547510e-01,  9.38358232e-02, ...,\n",
              "            5.92343397e-02, -8.13668743e-02, -1.00249685e-01],\n",
              "          [-6.45894185e-03,  2.75707692e-02, -1.44189447e-01, ...,\n",
              "            5.39539047e-02, -1.28363639e-01,  1.29918382e-01],\n",
              "          [ 1.24064885e-01, -1.09113520e-02,  1.05255373e-01, ...,\n",
              "           -6.84148371e-02, -5.07668853e-02,  1.44094065e-01],\n",
              "          [-2.09887438e-02, -3.22214589e-02, -7.14357495e-02, ...,\n",
              "           -1.25247715e-02,  6.53547700e-04,  1.11373566e-01]]]],\n",
              "       dtype=float32)]"
            ]
          },
          "metadata": {},
          "execution_count": 47
        }
      ]
    },
    {
      "cell_type": "code",
      "source": [
        "a.reshape(16,25*6)"
      ],
      "metadata": {
        "colab": {
          "base_uri": "https://localhost:8080/"
        },
        "id": "qtjjqHUKK6XR",
        "outputId": "b6658f81-2df2-49e8-b895-71bd2624191b"
      },
      "id": "qtjjqHUKK6XR",
      "execution_count": 64,
      "outputs": [
        {
          "output_type": "execute_result",
          "data": {
            "text/plain": [
              "array([[-0.1380514 ,  0.1637798 ,  0.10134409, ...,  0.14571728,\n",
              "         0.07338631, -0.02098874],\n",
              "       [ 0.05189569,  0.00046657, -0.01187375, ..., -0.05385061,\n",
              "        -0.15760083, -0.03222146],\n",
              "       [ 0.02828893, -0.08705705, -0.07872476, ...,  0.07592332,\n",
              "         0.00071172, -0.07143575],\n",
              "       ...,\n",
              "       [-0.03472394,  0.07545312, -0.13233075, ...,  0.04655015,\n",
              "         0.0223188 , -0.01252477],\n",
              "       [ 0.16741885,  0.19558743, -0.2851674 , ..., -0.00073013,\n",
              "        -0.08475074,  0.00065355],\n",
              "       [-0.16756013, -0.20318618,  0.0550495 , ...,  0.1197837 ,\n",
              "        -0.00426716,  0.11137357]], dtype=float32)"
            ]
          },
          "metadata": {},
          "execution_count": 64
        }
      ]
    },
    {
      "cell_type": "code",
      "source": [
        "array2[0].shape\n",
        "a = array2[0].reshape(25,6,16).transpose()\n",
        "a = a.reshape(16,25*6)\n",
        "\n",
        "weights = a\n",
        "weights_shape = weights.shape\n",
        "\n",
        "print(weights_shape)\n",
        "\n",
        "with open('layer_weights_2.bin', 'wb') as file:\n",
        "    for weight_matrix in weights:\n",
        "        # Flatten the weight matrix and write it to the file\n",
        "        weight_matrix.flatten().tofile(file)\n"
      ],
      "metadata": {
        "colab": {
          "base_uri": "https://localhost:8080/"
        },
        "id": "WNa-pKUfCVkp",
        "outputId": "f791c996-c0e9-40e1-b0db-9505b45cdd02"
      },
      "id": "WNa-pKUfCVkp",
      "execution_count": 66,
      "outputs": [
        {
          "output_type": "stream",
          "name": "stdout",
          "text": [
            "(16, 150)\n"
          ]
        }
      ]
    },
    {
      "cell_type": "code",
      "source": [
        "import tensorflow as tf\n",
        "import numpy as np\n",
        "\n",
        "# Input matrix (7x7)\n",
        "h_input = [\n",
        "    [0, 1, 1, 1, 0, 0, 0],\n",
        "    [0, 0, 1, 1, 1, 0, 0],\n",
        "    [0, 0, 0, 1, 1, 1, 0],\n",
        "    [0, 0, 0, 1, 1, 0, 0],\n",
        "    [0, 0, 1, 1, 0, 0, 0],\n",
        "    [0, 1, 1, 0, 0, 0, 0],\n",
        "    [1, 1, 0, 0, 0, 0, 0]\n",
        "]\n",
        "\n",
        "# Filter (3x3)\n",
        "h_filter = [\n",
        "    [1, 0, 1],\n",
        "    [0, 1, 0],\n",
        "    [1, 0, 1]\n",
        "]\n",
        "\n",
        "# Reshape to fit TensorFlow's conv2d requirements: [batch, height, width, channels]\n",
        "input_tensor = np.array(h_input, dtype=np.float32).reshape(1, 7, 7, 1)\n",
        "filter_tensor = np.array(h_filter, dtype=np.float32).reshape(3, 3, 1, 1)\n",
        "\n",
        "# Perform the convolution operation\n",
        "output_tensor = tf.nn.conv2d(input_tensor, filter_tensor, strides=[1, 1, 1, 1], padding='SAME')\n",
        "\n",
        "# Print the output\n",
        "print(output_tensor.numpy().squeeze())\n"
      ],
      "metadata": {
        "colab": {
          "base_uri": "https://localhost:8080/"
        },
        "id": "SEJcjez0uJIP",
        "outputId": "ef4bebf2-a7cf-4ee7-fb5b-26b3a0f8310b"
      },
      "id": "SEJcjez0uJIP",
      "execution_count": 15,
      "outputs": [
        {
          "output_type": "stream",
          "name": "stdout",
          "text": [
            "[[0. 2. 2. 3. 1. 1. 0.]\n",
            " [1. 1. 4. 3. 4. 1. 1.]\n",
            " [0. 1. 2. 4. 3. 3. 0.]\n",
            " [0. 1. 2. 3. 4. 1. 1.]\n",
            " [1. 1. 3. 3. 1. 1. 0.]\n",
            " [1. 3. 3. 1. 1. 0. 0.]\n",
            " [2. 2. 1. 1. 0. 0. 0.]]\n"
          ]
        }
      ]
    }
  ],
  "metadata": {
    "kernelspec": {
      "display_name": "gpu",
      "language": "python",
      "name": "gpu_env"
    },
    "language_info": {
      "codemirror_mode": {
        "name": "ipython",
        "version": 3
      },
      "file_extension": ".py",
      "mimetype": "text/x-python",
      "name": "python",
      "nbconvert_exporter": "python",
      "pygments_lexer": "ipython3",
      "version": "3.7.11"
    },
    "colab": {
      "provenance": [],
      "gpuType": "T4"
    },
    "accelerator": "GPU"
  },
  "nbformat": 4,
  "nbformat_minor": 5
}